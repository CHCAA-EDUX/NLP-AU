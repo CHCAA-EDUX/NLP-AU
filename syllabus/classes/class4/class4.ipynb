{
 "cells": [
  {
   "cell_type": "code",
   "execution_count": null,
   "metadata": {},
   "outputs": [],
   "source": []
  },
  {
   "cell_type": "markdown",
   "source": [
    "# Introduction to pytorch tensors\n",
    "\n",
    "---\n",
    "\n",
    "Pytorch tensors, work very similar to numpy arrays and you can always convert it to a numpy array or make a numpy array into a torch tensor. The primary difference is that it is located either on your CPU or your GPU and that it contains works with the auto differential software of pytorch."
   ],
   "metadata": {}
  },
  {
   "cell_type": "code",
   "execution_count": 5,
   "source": [
    "import torch\n",
    "x_tensor = torch.tensor([[1., -1.], [1., -1.]])\n",
    "print(type(x_tensor))\n",
    "\n",
    "# tensor to numpy\n",
    "x_array = x_tensor.numpy()\n",
    "print(type(x_array))\n",
    "\n",
    "# numpy to tensor\n",
    "x_tensor2 =torch.tensor(x_array)\n",
    "print(type(x_tensor2))\n",
    "\n",
    "print(x_tensor2 == x_tensor)\n",
    "\n",
    "# Location of tensor\n",
    "x_tensor.device"
   ],
   "outputs": [
    {
     "output_type": "stream",
     "name": "stdout",
     "text": "<class 'torch.Tensor'>\n<class 'numpy.ndarray'>\n<class 'torch.Tensor'>\ntensor([[True, True],\n        [True, True]])\n"
    },
    {
     "output_type": "execute_result",
     "data": {
      "text/plain": "device(type='cpu')"
     },
     "metadata": {},
     "execution_count": 5
    }
   ],
   "metadata": {}
  },
  {
   "cell_type": "markdown",
   "source": [
    "### Example of finding gradient"
   ],
   "metadata": {}
  },
  {
   "cell_type": "code",
   "execution_count": 6,
   "source": [
    "x = torch.tensor([[1., -1.], [1., 1.]], requires_grad=True)\n",
    "\n",
    "# sum(x_i ^ 2)\n",
    "out = (x**2).sum()\n",
    "\n",
    "# calculate the gradient \n",
    "out.backward()\n",
    "\n",
    "# What is the gradient for x\n",
    "print(x.grad)"
   ],
   "outputs": [
    {
     "output_type": "stream",
     "name": "stdout",
     "text": "tensor([[ 2., -2.],\n        [ 2.,  2.]])\n"
    }
   ],
   "metadata": {}
  },
  {
   "cell_type": "markdown",
   "source": [
    "# Optimizing a polynomial\n",
    "\n",
    "---\n",
    "\n"
   ],
   "metadata": {}
  },
  {
   "cell_type": "code",
   "execution_count": 8,
   "source": [
    "x = torch.tensor([3.], requires_grad=True)\n",
    "y = 2. + x**2 -3 *x\n",
    "print(y)\n",
    "\n",
    "# create sgd optimizer\n",
    "optimizer = torch.optim.SGD([x], lr=0.01)\n",
    "\n",
    "# backward pass / calcuate the gradient on the thing we want to optimize\n",
    "y.backward()\n",
    "\n",
    "print(x.grad) # examine\n",
    "\n",
    "# step in the direction to minimize y\n",
    "optimizer.step()\n",
    "\n",
    "# set the gradient to zero. (This is a bit wierd but required, resets the steps)\n",
    "optimizer.zero_grad()\n"
   ],
   "outputs": [
    {
     "output_type": "stream",
     "name": "stdout",
     "text": "tensor([2.], grad_fn=<SubBackward0>)\ntensor([3.])\n"
    }
   ],
   "metadata": {}
  },
  {
   "cell_type": "code",
   "execution_count": 9,
   "source": [
    "# we see that x have improved (minimum is 1.5 so moving in the right direction)\n",
    "print(x)\n",
    "# we see that the gradient is set to zero\n",
    "print(x.grad)"
   ],
   "outputs": [
    {
     "output_type": "stream",
     "name": "stdout",
     "text": "tensor([2.9700], requires_grad=True)\ntensor([0.])\n"
    }
   ],
   "metadata": {}
  },
  {
   "cell_type": "markdown",
   "source": [
    "We can now do this multiple times to obtain the desired results:"
   ],
   "metadata": {}
  },
  {
   "cell_type": "code",
   "execution_count": 10,
   "source": [
    "for i in range(1000):\n",
    "\n",
    "    # forward pass / or just calculate the outcome\n",
    "    y = 2. + x**2 -3 *x\n",
    "\n",
    "    # backward pass on the thing we want to minimize\n",
    "    y.backward()\n",
    "\n",
    "    # take a step in the \"minimize direction\"\n",
    "    optimizer.step()\n",
    "\n",
    "    # zero the gradient\n",
    "    optimizer.zero_grad()"
   ],
   "outputs": [],
   "metadata": {}
  },
  {
   "cell_type": "code",
   "execution_count": 24,
   "source": [
    "print(x)"
   ],
   "outputs": [
    {
     "output_type": "stream",
     "name": "stdout",
     "text": [
      "tensor([1.5000], requires_grad=True)\n"
     ]
    }
   ],
   "metadata": {}
  },
  {
   "cell_type": "markdown",
   "source": [
    "\n",
    "# Fitting a Linear regression\n",
    "\n",
    "---\n",
    "\n",
    "Here we will fit a linear regression using pytorch, using the same approach as above.\n",
    "\n",
    "## 0) Prepare the data\n",
    "First let us create some data. We will do this using `sklearn`'s `make_regression`, which just make some sample data for regression."
   ],
   "metadata": {}
  },
  {
   "cell_type": "code",
   "execution_count": 11,
   "source": [
    "from sklearn import datasets\n",
    "import matplotlib.pyplot as plt\n",
    "\n",
    "# 0) Prepare data\n",
    "X_numpy, y_numpy = datasets.make_regression(n_samples=100, n_features=1, noise=20, random_state=4)\n",
    "\n",
    "# plot the sample\n",
    "plt.plot(X_numpy, y_numpy, 'ro')\n",
    "plt.show()\n",
    "\n",
    "# cast to float Tensor\n",
    "X = torch.tensor(X_numpy, dtype=torch.float)\n",
    "y = torch.tensor(y_numpy, dtype=torch.float)\n",
    "y = y.view(y.shape[0], 1) # view is similar to reshape it simply sets the desired shape to (100, 1)\n",
    "print(y.shape)\n",
    "print(y.dtype)\n",
    "print(x.dtype)\n",
    "\n",
    "\n",
    "n_samples, n_features = X.shape"
   ],
   "outputs": [
    {
     "output_type": "display_data",
     "data": {
      "text/plain": "<Figure size 432x288 with 1 Axes>",
      "image/svg+xml": "<?xml version=\"1.0\" encoding=\"utf-8\" standalone=\"no\"?>\n<!DOCTYPE svg PUBLIC \"-//W3C//DTD SVG 1.1//EN\"\n  \"http://www.w3.org/Graphics/SVG/1.1/DTD/svg11.dtd\">\n<!-- Created with matplotlib (https://matplotlib.org/) -->\n<svg height=\"248.518125pt\" version=\"1.1\" viewBox=\"0 0 383.667187 248.518125\" width=\"383.667187pt\" xmlns=\"http://www.w3.org/2000/svg\" xmlns:xlink=\"http://www.w3.org/1999/xlink\">\n <metadata>\n  <rdf:RDF xmlns:cc=\"http://creativecommons.org/ns#\" xmlns:dc=\"http://purl.org/dc/elements/1.1/\" xmlns:rdf=\"http://www.w3.org/1999/02/22-rdf-syntax-ns#\">\n   <cc:Work>\n    <dc:type rdf:resource=\"http://purl.org/dc/dcmitype/StillImage\"/>\n    <dc:date>2021-10-06T11:51:51.982486</dc:date>\n    <dc:format>image/svg+xml</dc:format>\n    <dc:creator>\n     <cc:Agent>\n      <dc:title>Matplotlib v3.3.1, https://matplotlib.org/</dc:title>\n     </cc:Agent>\n    </dc:creator>\n   </cc:Work>\n  </rdf:RDF>\n </metadata>\n <defs>\n  <style type=\"text/css\">*{stroke-linecap:butt;stroke-linejoin:round;}</style>\n </defs>\n <g id=\"figure_1\">\n  <g id=\"patch_1\">\n   <path d=\"M 0 248.518125 \nL 383.667187 248.518125 \nL 383.667187 0 \nL 0 0 \nz\n\" style=\"fill:none;\"/>\n  </g>\n  <g id=\"axes_1\">\n   <g id=\"patch_2\">\n    <path d=\"M 41.667188 224.64 \nL 376.467188 224.64 \nL 376.467188 7.2 \nL 41.667188 7.2 \nz\n\" style=\"fill:#ffffff;\"/>\n   </g>\n   <g id=\"matplotlib.axis_1\">\n    <g id=\"xtick_1\">\n     <g id=\"line2d_1\">\n      <defs>\n       <path d=\"M 0 0 \nL 0 3.5 \n\" id=\"m01792f806f\" style=\"stroke:#000000;stroke-width:0.8;\"/>\n      </defs>\n      <g>\n       <use style=\"stroke:#000000;stroke-width:0.8;\" x=\"80.687105\" xlink:href=\"#m01792f806f\" y=\"224.64\"/>\n      </g>\n     </g>\n     <g id=\"text_1\">\n      <!-- −2 -->\n      <g transform=\"translate(73.316011 239.238437)scale(0.1 -0.1)\">\n       <defs>\n        <path d=\"M 10.59375 35.5 \nL 73.1875 35.5 \nL 73.1875 27.203125 \nL 10.59375 27.203125 \nz\n\" id=\"DejaVuSans-8722\"/>\n        <path d=\"M 19.1875 8.296875 \nL 53.609375 8.296875 \nL 53.609375 0 \nL 7.328125 0 \nL 7.328125 8.296875 \nQ 12.9375 14.109375 22.625 23.890625 \nQ 32.328125 33.6875 34.8125 36.53125 \nQ 39.546875 41.84375 41.421875 45.53125 \nQ 43.3125 49.21875 43.3125 52.78125 \nQ 43.3125 58.59375 39.234375 62.25 \nQ 35.15625 65.921875 28.609375 65.921875 \nQ 23.96875 65.921875 18.8125 64.3125 \nQ 13.671875 62.703125 7.8125 59.421875 \nL 7.8125 69.390625 \nQ 13.765625 71.78125 18.9375 73 \nQ 24.125 74.21875 28.421875 74.21875 \nQ 39.75 74.21875 46.484375 68.546875 \nQ 53.21875 62.890625 53.21875 53.421875 \nQ 53.21875 48.921875 51.53125 44.890625 \nQ 49.859375 40.875 45.40625 35.40625 \nQ 44.1875 33.984375 37.640625 27.21875 \nQ 31.109375 20.453125 19.1875 8.296875 \nz\n\" id=\"DejaVuSans-50\"/>\n       </defs>\n       <use xlink:href=\"#DejaVuSans-8722\"/>\n       <use x=\"83.789062\" xlink:href=\"#DejaVuSans-50\"/>\n      </g>\n     </g>\n    </g>\n    <g id=\"xtick_2\">\n     <g id=\"line2d_2\">\n      <g>\n       <use style=\"stroke:#000000;stroke-width:0.8;\" x=\"143.360315\" xlink:href=\"#m01792f806f\" y=\"224.64\"/>\n      </g>\n     </g>\n     <g id=\"text_2\">\n      <!-- −1 -->\n      <g transform=\"translate(135.989222 239.238437)scale(0.1 -0.1)\">\n       <defs>\n        <path d=\"M 12.40625 8.296875 \nL 28.515625 8.296875 \nL 28.515625 63.921875 \nL 10.984375 60.40625 \nL 10.984375 69.390625 \nL 28.421875 72.90625 \nL 38.28125 72.90625 \nL 38.28125 8.296875 \nL 54.390625 8.296875 \nL 54.390625 0 \nL 12.40625 0 \nz\n\" id=\"DejaVuSans-49\"/>\n       </defs>\n       <use xlink:href=\"#DejaVuSans-8722\"/>\n       <use x=\"83.789062\" xlink:href=\"#DejaVuSans-49\"/>\n      </g>\n     </g>\n    </g>\n    <g id=\"xtick_3\">\n     <g id=\"line2d_3\">\n      <g>\n       <use style=\"stroke:#000000;stroke-width:0.8;\" x=\"206.033526\" xlink:href=\"#m01792f806f\" y=\"224.64\"/>\n      </g>\n     </g>\n     <g id=\"text_3\">\n      <!-- 0 -->\n      <g transform=\"translate(202.852276 239.238437)scale(0.1 -0.1)\">\n       <defs>\n        <path d=\"M 31.78125 66.40625 \nQ 24.171875 66.40625 20.328125 58.90625 \nQ 16.5 51.421875 16.5 36.375 \nQ 16.5 21.390625 20.328125 13.890625 \nQ 24.171875 6.390625 31.78125 6.390625 \nQ 39.453125 6.390625 43.28125 13.890625 \nQ 47.125 21.390625 47.125 36.375 \nQ 47.125 51.421875 43.28125 58.90625 \nQ 39.453125 66.40625 31.78125 66.40625 \nz\nM 31.78125 74.21875 \nQ 44.046875 74.21875 50.515625 64.515625 \nQ 56.984375 54.828125 56.984375 36.375 \nQ 56.984375 17.96875 50.515625 8.265625 \nQ 44.046875 -1.421875 31.78125 -1.421875 \nQ 19.53125 -1.421875 13.0625 8.265625 \nQ 6.59375 17.96875 6.59375 36.375 \nQ 6.59375 54.828125 13.0625 64.515625 \nQ 19.53125 74.21875 31.78125 74.21875 \nz\n\" id=\"DejaVuSans-48\"/>\n       </defs>\n       <use xlink:href=\"#DejaVuSans-48\"/>\n      </g>\n     </g>\n    </g>\n    <g id=\"xtick_4\">\n     <g id=\"line2d_4\">\n      <g>\n       <use style=\"stroke:#000000;stroke-width:0.8;\" x=\"268.706736\" xlink:href=\"#m01792f806f\" y=\"224.64\"/>\n      </g>\n     </g>\n     <g id=\"text_4\">\n      <!-- 1 -->\n      <g transform=\"translate(265.525486 239.238437)scale(0.1 -0.1)\">\n       <use xlink:href=\"#DejaVuSans-49\"/>\n      </g>\n     </g>\n    </g>\n    <g id=\"xtick_5\">\n     <g id=\"line2d_5\">\n      <g>\n       <use style=\"stroke:#000000;stroke-width:0.8;\" x=\"331.379946\" xlink:href=\"#m01792f806f\" y=\"224.64\"/>\n      </g>\n     </g>\n     <g id=\"text_5\">\n      <!-- 2 -->\n      <g transform=\"translate(328.198696 239.238437)scale(0.1 -0.1)\">\n       <use xlink:href=\"#DejaVuSans-50\"/>\n      </g>\n     </g>\n    </g>\n   </g>\n   <g id=\"matplotlib.axis_2\">\n    <g id=\"ytick_1\">\n     <g id=\"line2d_6\">\n      <defs>\n       <path d=\"M 0 0 \nL -3.5 0 \n\" id=\"ma670d847b8\" style=\"stroke:#000000;stroke-width:0.8;\"/>\n      </defs>\n      <g>\n       <use style=\"stroke:#000000;stroke-width:0.8;\" x=\"41.667188\" xlink:href=\"#ma670d847b8\" y=\"197.460448\"/>\n      </g>\n     </g>\n     <g id=\"text_6\">\n      <!-- −150 -->\n      <g transform=\"translate(7.2 201.259667)scale(0.1 -0.1)\">\n       <defs>\n        <path d=\"M 10.796875 72.90625 \nL 49.515625 72.90625 \nL 49.515625 64.59375 \nL 19.828125 64.59375 \nL 19.828125 46.734375 \nQ 21.96875 47.46875 24.109375 47.828125 \nQ 26.265625 48.1875 28.421875 48.1875 \nQ 40.625 48.1875 47.75 41.5 \nQ 54.890625 34.8125 54.890625 23.390625 \nQ 54.890625 11.625 47.5625 5.09375 \nQ 40.234375 -1.421875 26.90625 -1.421875 \nQ 22.3125 -1.421875 17.546875 -0.640625 \nQ 12.796875 0.140625 7.71875 1.703125 \nL 7.71875 11.625 \nQ 12.109375 9.234375 16.796875 8.0625 \nQ 21.484375 6.890625 26.703125 6.890625 \nQ 35.15625 6.890625 40.078125 11.328125 \nQ 45.015625 15.765625 45.015625 23.390625 \nQ 45.015625 31 40.078125 35.4375 \nQ 35.15625 39.890625 26.703125 39.890625 \nQ 22.75 39.890625 18.8125 39.015625 \nQ 14.890625 38.140625 10.796875 36.28125 \nz\n\" id=\"DejaVuSans-53\"/>\n       </defs>\n       <use xlink:href=\"#DejaVuSans-8722\"/>\n       <use x=\"83.789062\" xlink:href=\"#DejaVuSans-49\"/>\n       <use x=\"147.412109\" xlink:href=\"#DejaVuSans-53\"/>\n       <use x=\"211.035156\" xlink:href=\"#DejaVuSans-48\"/>\n      </g>\n     </g>\n    </g>\n    <g id=\"ytick_2\">\n     <g id=\"line2d_7\">\n      <g>\n       <use style=\"stroke:#000000;stroke-width:0.8;\" x=\"41.667188\" xlink:href=\"#ma670d847b8\" y=\"169.873848\"/>\n      </g>\n     </g>\n     <g id=\"text_7\">\n      <!-- −100 -->\n      <g transform=\"translate(7.2 173.673067)scale(0.1 -0.1)\">\n       <use xlink:href=\"#DejaVuSans-8722\"/>\n       <use x=\"83.789062\" xlink:href=\"#DejaVuSans-49\"/>\n       <use x=\"147.412109\" xlink:href=\"#DejaVuSans-48\"/>\n       <use x=\"211.035156\" xlink:href=\"#DejaVuSans-48\"/>\n      </g>\n     </g>\n    </g>\n    <g id=\"ytick_3\">\n     <g id=\"line2d_8\">\n      <g>\n       <use style=\"stroke:#000000;stroke-width:0.8;\" x=\"41.667188\" xlink:href=\"#ma670d847b8\" y=\"142.287248\"/>\n      </g>\n     </g>\n     <g id=\"text_8\">\n      <!-- −50 -->\n      <g transform=\"translate(13.5625 146.086467)scale(0.1 -0.1)\">\n       <use xlink:href=\"#DejaVuSans-8722\"/>\n       <use x=\"83.789062\" xlink:href=\"#DejaVuSans-53\"/>\n       <use x=\"147.412109\" xlink:href=\"#DejaVuSans-48\"/>\n      </g>\n     </g>\n    </g>\n    <g id=\"ytick_4\">\n     <g id=\"line2d_9\">\n      <g>\n       <use style=\"stroke:#000000;stroke-width:0.8;\" x=\"41.667188\" xlink:href=\"#ma670d847b8\" y=\"114.700648\"/>\n      </g>\n     </g>\n     <g id=\"text_9\">\n      <!-- 0 -->\n      <g transform=\"translate(28.304688 118.499867)scale(0.1 -0.1)\">\n       <use xlink:href=\"#DejaVuSans-48\"/>\n      </g>\n     </g>\n    </g>\n    <g id=\"ytick_5\">\n     <g id=\"line2d_10\">\n      <g>\n       <use style=\"stroke:#000000;stroke-width:0.8;\" x=\"41.667188\" xlink:href=\"#ma670d847b8\" y=\"87.114049\"/>\n      </g>\n     </g>\n     <g id=\"text_10\">\n      <!-- 50 -->\n      <g transform=\"translate(21.942188 90.913267)scale(0.1 -0.1)\">\n       <use xlink:href=\"#DejaVuSans-53\"/>\n       <use x=\"63.623047\" xlink:href=\"#DejaVuSans-48\"/>\n      </g>\n     </g>\n    </g>\n    <g id=\"ytick_6\">\n     <g id=\"line2d_11\">\n      <g>\n       <use style=\"stroke:#000000;stroke-width:0.8;\" x=\"41.667188\" xlink:href=\"#ma670d847b8\" y=\"59.527449\"/>\n      </g>\n     </g>\n     <g id=\"text_11\">\n      <!-- 100 -->\n      <g transform=\"translate(15.579688 63.326667)scale(0.1 -0.1)\">\n       <use xlink:href=\"#DejaVuSans-49\"/>\n       <use x=\"63.623047\" xlink:href=\"#DejaVuSans-48\"/>\n       <use x=\"127.246094\" xlink:href=\"#DejaVuSans-48\"/>\n      </g>\n     </g>\n    </g>\n    <g id=\"ytick_7\">\n     <g id=\"line2d_12\">\n      <g>\n       <use style=\"stroke:#000000;stroke-width:0.8;\" x=\"41.667188\" xlink:href=\"#ma670d847b8\" y=\"31.940849\"/>\n      </g>\n     </g>\n     <g id=\"text_12\">\n      <!-- 150 -->\n      <g transform=\"translate(15.579688 35.740068)scale(0.1 -0.1)\">\n       <use xlink:href=\"#DejaVuSans-49\"/>\n       <use x=\"63.623047\" xlink:href=\"#DejaVuSans-53\"/>\n       <use x=\"127.246094\" xlink:href=\"#DejaVuSans-48\"/>\n      </g>\n     </g>\n    </g>\n   </g>\n   <g id=\"line2d_13\">\n    <defs>\n     <path d=\"M 0 3 \nC 0.795609 3 1.55874 2.683901 2.12132 2.12132 \nC 2.683901 1.55874 3 0.795609 3 0 \nC 3 -0.795609 2.683901 -1.55874 2.12132 -2.12132 \nC 1.55874 -2.683901 0.795609 -3 0 -3 \nC -0.795609 -3 -1.55874 -2.683901 -2.12132 -2.12132 \nC -2.683901 -1.55874 -3 -0.795609 -3 0 \nC -3 0.795609 -2.683901 1.55874 -2.12132 2.12132 \nC -1.55874 2.683901 -0.795609 3 0 3 \nz\n\" id=\"m6ba62f6692\" style=\"stroke:#ff0000;\"/>\n    </defs>\n    <g clip-path=\"url(#p3b2a6d9311)\">\n     <use style=\"fill:#ff0000;stroke:#ff0000;\" x=\"121.583863\" xlink:href=\"#m6ba62f6692\" y=\"184.356385\"/>\n     <use style=\"fill:#ff0000;stroke:#ff0000;\" x=\"228.116017\" xlink:href=\"#m6ba62f6692\" y=\"86.601617\"/>\n     <use style=\"fill:#ff0000;stroke:#ff0000;\" x=\"265.867552\" xlink:href=\"#m6ba62f6692\" y=\"79.856217\"/>\n     <use style=\"fill:#ff0000;stroke:#ff0000;\" x=\"208.285252\" xlink:href=\"#m6ba62f6692\" y=\"111.360066\"/>\n     <use style=\"fill:#ff0000;stroke:#ff0000;\" x=\"209.042231\" xlink:href=\"#m6ba62f6692\" y=\"117.861819\"/>\n     <use style=\"fill:#ff0000;stroke:#ff0000;\" x=\"209.079632\" xlink:href=\"#m6ba62f6692\" y=\"116.218969\"/>\n     <use style=\"fill:#ff0000;stroke:#ff0000;\" x=\"251.367666\" xlink:href=\"#m6ba62f6692\" y=\"82.312016\"/>\n     <use style=\"fill:#ff0000;stroke:#ff0000;\" x=\"256.302869\" xlink:href=\"#m6ba62f6692\" y=\"85.009947\"/>\n     <use style=\"fill:#ff0000;stroke:#ff0000;\" x=\"134.347997\" xlink:href=\"#m6ba62f6692\" y=\"167.303361\"/>\n     <use style=\"fill:#ff0000;stroke:#ff0000;\" x=\"217.277771\" xlink:href=\"#m6ba62f6692\" y=\"101.101489\"/>\n     <use style=\"fill:#ff0000;stroke:#ff0000;\" x=\"165.439663\" xlink:href=\"#m6ba62f6692\" y=\"147.482894\"/>\n     <use style=\"fill:#ff0000;stroke:#ff0000;\" x=\"136.290015\" xlink:href=\"#m6ba62f6692\" y=\"155.210741\"/>\n     <use style=\"fill:#ff0000;stroke:#ff0000;\" x=\"106.722983\" xlink:href=\"#m6ba62f6692\" y=\"172.170525\"/>\n     <use style=\"fill:#ff0000;stroke:#ff0000;\" x=\"200.519102\" xlink:href=\"#m6ba62f6692\" y=\"97.15134\"/>\n     <use style=\"fill:#ff0000;stroke:#ff0000;\" x=\"361.249006\" xlink:href=\"#m6ba62f6692\" y=\"20.269785\"/>\n     <use style=\"fill:#ff0000;stroke:#ff0000;\" x=\"160.140146\" xlink:href=\"#m6ba62f6692\" y=\"152.081575\"/>\n     <use style=\"fill:#ff0000;stroke:#ff0000;\" x=\"302.987686\" xlink:href=\"#m6ba62f6692\" y=\"36.648393\"/>\n     <use style=\"fill:#ff0000;stroke:#ff0000;\" x=\"197.841846\" xlink:href=\"#m6ba62f6692\" y=\"128.145016\"/>\n     <use style=\"fill:#ff0000;stroke:#ff0000;\" x=\"224.863412\" xlink:href=\"#m6ba62f6692\" y=\"115.866128\"/>\n     <use style=\"fill:#ff0000;stroke:#ff0000;\" x=\"146.846914\" xlink:href=\"#m6ba62f6692\" y=\"132.684811\"/>\n     <use style=\"fill:#ff0000;stroke:#ff0000;\" x=\"187.045801\" xlink:href=\"#m6ba62f6692\" y=\"130.929877\"/>\n     <use style=\"fill:#ff0000;stroke:#ff0000;\" x=\"182.565861\" xlink:href=\"#m6ba62f6692\" y=\"135.595545\"/>\n     <use style=\"fill:#ff0000;stroke:#ff0000;\" x=\"133.532137\" xlink:href=\"#m6ba62f6692\" y=\"170.921199\"/>\n     <use style=\"fill:#ff0000;stroke:#ff0000;\" x=\"243.548153\" xlink:href=\"#m6ba62f6692\" y=\"89.093179\"/>\n     <use style=\"fill:#ff0000;stroke:#ff0000;\" x=\"56.885369\" xlink:href=\"#m6ba62f6692\" y=\"214.756364\"/>\n     <use style=\"fill:#ff0000;stroke:#ff0000;\" x=\"167.948038\" xlink:href=\"#m6ba62f6692\" y=\"132.231378\"/>\n     <use style=\"fill:#ff0000;stroke:#ff0000;\" x=\"240.030691\" xlink:href=\"#m6ba62f6692\" y=\"101.386501\"/>\n     <use style=\"fill:#ff0000;stroke:#ff0000;\" x=\"332.784144\" xlink:href=\"#m6ba62f6692\" y=\"24.24758\"/>\n     <use style=\"fill:#ff0000;stroke:#ff0000;\" x=\"208.92499\" xlink:href=\"#m6ba62f6692\" y=\"108.756469\"/>\n     <use style=\"fill:#ff0000;stroke:#ff0000;\" x=\"238.827136\" xlink:href=\"#m6ba62f6692\" y=\"94.088539\"/>\n     <use style=\"fill:#ff0000;stroke:#ff0000;\" x=\"224.656319\" xlink:href=\"#m6ba62f6692\" y=\"114.159749\"/>\n     <use style=\"fill:#ff0000;stroke:#ff0000;\" x=\"109.333209\" xlink:href=\"#m6ba62f6692\" y=\"181.397175\"/>\n     <use style=\"fill:#ff0000;stroke:#ff0000;\" x=\"312.099017\" xlink:href=\"#m6ba62f6692\" y=\"38.451624\"/>\n     <use style=\"fill:#ff0000;stroke:#ff0000;\" x=\"219.151874\" xlink:href=\"#m6ba62f6692\" y=\"109.623236\"/>\n     <use style=\"fill:#ff0000;stroke:#ff0000;\" x=\"179.817226\" xlink:href=\"#m6ba62f6692\" y=\"123.642508\"/>\n     <use style=\"fill:#ff0000;stroke:#ff0000;\" x=\"260.611976\" xlink:href=\"#m6ba62f6692\" y=\"96.37372\"/>\n     <use style=\"fill:#ff0000;stroke:#ff0000;\" x=\"134.117481\" xlink:href=\"#m6ba62f6692\" y=\"139.868999\"/>\n     <use style=\"fill:#ff0000;stroke:#ff0000;\" x=\"195.052519\" xlink:href=\"#m6ba62f6692\" y=\"115.681401\"/>\n     <use style=\"fill:#ff0000;stroke:#ff0000;\" x=\"145.755886\" xlink:href=\"#m6ba62f6692\" y=\"172.943045\"/>\n     <use style=\"fill:#ff0000;stroke:#ff0000;\" x=\"217.856589\" xlink:href=\"#m6ba62f6692\" y=\"111.796361\"/>\n     <use style=\"fill:#ff0000;stroke:#ff0000;\" x=\"281.366887\" xlink:href=\"#m6ba62f6692\" y=\"65.266624\"/>\n     <use style=\"fill:#ff0000;stroke:#ff0000;\" x=\"330.758417\" xlink:href=\"#m6ba62f6692\" y=\"34.090946\"/>\n     <use style=\"fill:#ff0000;stroke:#ff0000;\" x=\"120.737443\" xlink:href=\"#m6ba62f6692\" y=\"157.61825\"/>\n     <use style=\"fill:#ff0000;stroke:#ff0000;\" x=\"202.614156\" xlink:href=\"#m6ba62f6692\" y=\"116.80216\"/>\n     <use style=\"fill:#ff0000;stroke:#ff0000;\" x=\"278.996897\" xlink:href=\"#m6ba62f6692\" y=\"81.148745\"/>\n     <use style=\"fill:#ff0000;stroke:#ff0000;\" x=\"114.810517\" xlink:href=\"#m6ba62f6692\" y=\"168.330494\"/>\n     <use style=\"fill:#ff0000;stroke:#ff0000;\" x=\"207.229955\" xlink:href=\"#m6ba62f6692\" y=\"115.340599\"/>\n     <use style=\"fill:#ff0000;stroke:#ff0000;\" x=\"157.227395\" xlink:href=\"#m6ba62f6692\" y=\"138.912006\"/>\n     <use style=\"fill:#ff0000;stroke:#ff0000;\" x=\"208.386747\" xlink:href=\"#m6ba62f6692\" y=\"106.014851\"/>\n     <use style=\"fill:#ff0000;stroke:#ff0000;\" x=\"184.34221\" xlink:href=\"#m6ba62f6692\" y=\"128.093648\"/>\n     <use style=\"fill:#ff0000;stroke:#ff0000;\" x=\"165.219112\" xlink:href=\"#m6ba62f6692\" y=\"164.688385\"/>\n     <use style=\"fill:#ff0000;stroke:#ff0000;\" x=\"215.96532\" xlink:href=\"#m6ba62f6692\" y=\"125.223913\"/>\n     <use style=\"fill:#ff0000;stroke:#ff0000;\" x=\"130.264863\" xlink:href=\"#m6ba62f6692\" y=\"170.861457\"/>\n     <use style=\"fill:#ff0000;stroke:#ff0000;\" x=\"165.443564\" xlink:href=\"#m6ba62f6692\" y=\"145.901866\"/>\n     <use style=\"fill:#ff0000;stroke:#ff0000;\" x=\"263.369545\" xlink:href=\"#m6ba62f6692\" y=\"85.916957\"/>\n     <use style=\"fill:#ff0000;stroke:#ff0000;\" x=\"90.659925\" xlink:href=\"#m6ba62f6692\" y=\"202.031376\"/>\n     <use style=\"fill:#ff0000;stroke:#ff0000;\" x=\"237.367081\" xlink:href=\"#m6ba62f6692\" y=\"79.092038\"/>\n     <use style=\"fill:#ff0000;stroke:#ff0000;\" x=\"285.742481\" xlink:href=\"#m6ba62f6692\" y=\"68.067692\"/>\n     <use style=\"fill:#ff0000;stroke:#ff0000;\" x=\"249.503571\" xlink:href=\"#m6ba62f6692\" y=\"78.046695\"/>\n     <use style=\"fill:#ff0000;stroke:#ff0000;\" x=\"240.891439\" xlink:href=\"#m6ba62f6692\" y=\"94.360506\"/>\n     <use style=\"fill:#ff0000;stroke:#ff0000;\" x=\"232.674177\" xlink:href=\"#m6ba62f6692\" y=\"94.045019\"/>\n     <use style=\"fill:#ff0000;stroke:#ff0000;\" x=\"137.273375\" xlink:href=\"#m6ba62f6692\" y=\"160.448684\"/>\n     <use style=\"fill:#ff0000;stroke:#ff0000;\" x=\"170.630977\" xlink:href=\"#m6ba62f6692\" y=\"126.517819\"/>\n     <use style=\"fill:#ff0000;stroke:#ff0000;\" x=\"228.031644\" xlink:href=\"#m6ba62f6692\" y=\"117.759166\"/>\n     <use style=\"fill:#ff0000;stroke:#ff0000;\" x=\"258.54342\" xlink:href=\"#m6ba62f6692\" y=\"81.660445\"/>\n     <use style=\"fill:#ff0000;stroke:#ff0000;\" x=\"209.445\" xlink:href=\"#m6ba62f6692\" y=\"110.077968\"/>\n     <use style=\"fill:#ff0000;stroke:#ff0000;\" x=\"205.446898\" xlink:href=\"#m6ba62f6692\" y=\"124.17739\"/>\n     <use style=\"fill:#ff0000;stroke:#ff0000;\" x=\"58.245481\" xlink:href=\"#m6ba62f6692\" y=\"203.258574\"/>\n     <use style=\"fill:#ff0000;stroke:#ff0000;\" x=\"144.426283\" xlink:href=\"#m6ba62f6692\" y=\"170.280573\"/>\n     <use style=\"fill:#ff0000;stroke:#ff0000;\" x=\"264.611046\" xlink:href=\"#m6ba62f6692\" y=\"70.394716\"/>\n     <use style=\"fill:#ff0000;stroke:#ff0000;\" x=\"255.87339\" xlink:href=\"#m6ba62f6692\" y=\"76.272754\"/>\n     <use style=\"fill:#ff0000;stroke:#ff0000;\" x=\"237.991835\" xlink:href=\"#m6ba62f6692\" y=\"99.172463\"/>\n     <use style=\"fill:#ff0000;stroke:#ff0000;\" x=\"195.287288\" xlink:href=\"#m6ba62f6692\" y=\"109.314063\"/>\n     <use style=\"fill:#ff0000;stroke:#ff0000;\" x=\"216.054529\" xlink:href=\"#m6ba62f6692\" y=\"92.010684\"/>\n     <use style=\"fill:#ff0000;stroke:#ff0000;\" x=\"345.378648\" xlink:href=\"#m6ba62f6692\" y=\"17.083636\"/>\n     <use style=\"fill:#ff0000;stroke:#ff0000;\" x=\"226.856897\" xlink:href=\"#m6ba62f6692\" y=\"109.426191\"/>\n     <use style=\"fill:#ff0000;stroke:#ff0000;\" x=\"209.20239\" xlink:href=\"#m6ba62f6692\" y=\"117.130825\"/>\n     <use style=\"fill:#ff0000;stroke:#ff0000;\" x=\"172.929782\" xlink:href=\"#m6ba62f6692\" y=\"127.961997\"/>\n     <use style=\"fill:#ff0000;stroke:#ff0000;\" x=\"233.000011\" xlink:href=\"#m6ba62f6692\" y=\"104.123887\"/>\n     <use style=\"fill:#ff0000;stroke:#ff0000;\" x=\"308.551075\" xlink:href=\"#m6ba62f6692\" y=\"58.157349\"/>\n     <use style=\"fill:#ff0000;stroke:#ff0000;\" x=\"255.332416\" xlink:href=\"#m6ba62f6692\" y=\"58.688329\"/>\n     <use style=\"fill:#ff0000;stroke:#ff0000;\" x=\"167.997951\" xlink:href=\"#m6ba62f6692\" y=\"146.984244\"/>\n     <use style=\"fill:#ff0000;stroke:#ff0000;\" x=\"230.745273\" xlink:href=\"#m6ba62f6692\" y=\"104.941784\"/>\n     <use style=\"fill:#ff0000;stroke:#ff0000;\" x=\"255.953483\" xlink:href=\"#m6ba62f6692\" y=\"79.911922\"/>\n     <use style=\"fill:#ff0000;stroke:#ff0000;\" x=\"138.641644\" xlink:href=\"#m6ba62f6692\" y=\"171.179953\"/>\n     <use style=\"fill:#ff0000;stroke:#ff0000;\" x=\"193.702867\" xlink:href=\"#m6ba62f6692\" y=\"115.615732\"/>\n     <use style=\"fill:#ff0000;stroke:#ff0000;\" x=\"258.461465\" xlink:href=\"#m6ba62f6692\" y=\"79.024198\"/>\n     <use style=\"fill:#ff0000;stroke:#ff0000;\" x=\"174.958987\" xlink:href=\"#m6ba62f6692\" y=\"139.048533\"/>\n     <use style=\"fill:#ff0000;stroke:#ff0000;\" x=\"292.517548\" xlink:href=\"#m6ba62f6692\" y=\"49.598158\"/>\n     <use style=\"fill:#ff0000;stroke:#ff0000;\" x=\"210.26215\" xlink:href=\"#m6ba62f6692\" y=\"117.256095\"/>\n     <use style=\"fill:#ff0000;stroke:#ff0000;\" x=\"143.616716\" xlink:href=\"#m6ba62f6692\" y=\"157.026572\"/>\n     <use style=\"fill:#ff0000;stroke:#ff0000;\" x=\"149.286811\" xlink:href=\"#m6ba62f6692\" y=\"151.822053\"/>\n     <use style=\"fill:#ff0000;stroke:#ff0000;\" x=\"188.722975\" xlink:href=\"#m6ba62f6692\" y=\"121.57763\"/>\n     <use style=\"fill:#ff0000;stroke:#ff0000;\" x=\"221.241817\" xlink:href=\"#m6ba62f6692\" y=\"101.295023\"/>\n     <use style=\"fill:#ff0000;stroke:#ff0000;\" x=\"237.983003\" xlink:href=\"#m6ba62f6692\" y=\"97.359049\"/>\n     <use style=\"fill:#ff0000;stroke:#ff0000;\" x=\"226.856702\" xlink:href=\"#m6ba62f6692\" y=\"95.698401\"/>\n     <use style=\"fill:#ff0000;stroke:#ff0000;\" x=\"136.743024\" xlink:href=\"#m6ba62f6692\" y=\"155.952659\"/>\n     <use style=\"fill:#ff0000;stroke:#ff0000;\" x=\"336.887096\" xlink:href=\"#m6ba62f6692\" y=\"25.873992\"/>\n     <use style=\"fill:#ff0000;stroke:#ff0000;\" x=\"223.636216\" xlink:href=\"#m6ba62f6692\" y=\"92.246411\"/>\n     <use style=\"fill:#ff0000;stroke:#ff0000;\" x=\"244.807541\" xlink:href=\"#m6ba62f6692\" y=\"96.254031\"/>\n    </g>\n   </g>\n   <g id=\"patch_3\">\n    <path d=\"M 41.667188 224.64 \nL 41.667188 7.2 \n\" style=\"fill:none;stroke:#000000;stroke-linecap:square;stroke-linejoin:miter;stroke-width:0.8;\"/>\n   </g>\n   <g id=\"patch_4\">\n    <path d=\"M 376.467188 224.64 \nL 376.467188 7.2 \n\" style=\"fill:none;stroke:#000000;stroke-linecap:square;stroke-linejoin:miter;stroke-width:0.8;\"/>\n   </g>\n   <g id=\"patch_5\">\n    <path d=\"M 41.667188 224.64 \nL 376.467188 224.64 \n\" style=\"fill:none;stroke:#000000;stroke-linecap:square;stroke-linejoin:miter;stroke-width:0.8;\"/>\n   </g>\n   <g id=\"patch_6\">\n    <path d=\"M 41.667188 7.2 \nL 376.467188 7.2 \n\" style=\"fill:none;stroke:#000000;stroke-linecap:square;stroke-linejoin:miter;stroke-width:0.8;\"/>\n   </g>\n  </g>\n </g>\n <defs>\n  <clipPath id=\"p3b2a6d9311\">\n   <rect height=\"217.44\" width=\"334.8\" x=\"41.667188\" y=\"7.2\"/>\n  </clipPath>\n </defs>\n</svg>\n",
      "image/png": "[encoded data removed]"
     },
     "metadata": {
      "needs_background": "light"
     }
    },
    {
     "output_type": "stream",
     "name": "stdout",
     "text": "torch.Size([100, 1])\ntorch.float32\ntorch.float32\n"
    }
   ],
   "metadata": {}
  },
  {
   "cell_type": "markdown",
   "source": [
    "## 1) Creating the linear model\n",
    "You can do this using a the `nn.Linear`. This corresponds to multiplying with a matrix of beta coefficients (or weights in a neural network sense) and adding a bias. \n",
    "\n",
    "> Actually if you are very pedantic it is not really a linear transformation but an *affine* transformation, but it corresponds to what we think of as linear (regression)."
   ],
   "metadata": {}
  },
  {
   "cell_type": "code",
   "execution_count": 12,
   "source": [
    "from torch import nn\n",
    "# 1) Model\n",
    "# Linear model f = wx + b\n",
    "input_size = n_features \n",
    "output_size = 1\n",
    "model = nn.Linear(input_size, output_size)"
   ],
   "outputs": [],
   "metadata": {}
  },
  {
   "cell_type": "markdown",
   "source": [
    "# 2) Loss and optimizer\n",
    "Here we will create the optimizer, note we use `model.parameters` to get a list to get all of the parameters of the model.\n",
    "\n",
    "We also use the `MSELoss()` as our criterion to minimize. It is simply the mean squared error (MSE) which you are used to from regression."
   ],
   "metadata": {}
  },
  {
   "cell_type": "code",
   "execution_count": 13,
   "source": [
    "learning_rate = 0.01 # feel free to change this\n",
    "\n",
    "print(list(model.parameters())) # only two parameters a beta and an intercept\n",
    "\n",
    "criterion = nn.MSELoss()\n",
    "optimizer = torch.optim.SGD(model.parameters(), lr=learning_rate)  "
   ],
   "outputs": [
    {
     "output_type": "stream",
     "name": "stdout",
     "text": "[Parameter containing:\ntensor([[-0.9260]], requires_grad=True), Parameter containing:\ntensor([0.1453], requires_grad=True)]\n"
    }
   ],
   "metadata": {}
  },
  {
   "cell_type": "markdown",
   "source": [
    "## 3) Training loop\n",
    "Well this is essentially the same as before:"
   ],
   "metadata": {}
  },
  {
   "cell_type": "code",
   "execution_count": 14,
   "source": [
    "epochs = 500\n",
    "for epoch in range(epochs):\n",
    "    # Forward pass / calc predicted y\n",
    "    y_predicted = model(X)\n",
    "\n",
    "    # calucate loss / MSE\n",
    "    loss = criterion(y_predicted, y)\n",
    "    \n",
    "    # Backward pass / gradient and update\n",
    "    loss.backward()\n",
    "    optimizer.step()\n",
    "\n",
    "    # zero grad before new step\n",
    "    optimizer.zero_grad()\n",
    "\n",
    "    # some print to see that it is running\n",
    "    if (epoch+1) % 100 == 0:\n",
    "        print(f'epoch: {epoch+1}, loss = {loss.item():.4f}')"
   ],
   "outputs": [
    {
     "output_type": "stream",
     "name": "stdout",
     "text": "epoch: 100, loss = 414.2477\nepoch: 200, loss = 292.9249\nepoch: 300, loss = 290.2221\nepoch: 400, loss = 290.1611\nepoch: 500, loss = 290.1598\n"
    }
   ],
   "metadata": {}
  },
  {
   "cell_type": "code",
   "execution_count": 11,
   "source": [
    "# Plot\n",
    "predicted = model(X).detach().numpy()\n",
    "\n",
    "plt.plot(X_numpy, y_numpy, 'ro')\n",
    "plt.plot(X_numpy, predicted, 'b')\n",
    "plt.show()"
   ],
   "outputs": [
    {
     "output_type": "display_data",
     "data": {
      "image/png": "[encoded data removed]",
      "text/plain": [
       "<Figure size 432x288 with 1 Axes>"
      ]
     },
     "metadata": {
      "needs_background": "light"
     }
    }
   ],
   "metadata": {}
  },
  {
   "cell_type": "markdown",
   "source": [
    "<details>\n",
    "    <summary> Hmm this seems like something we should do in a class? (or why didn't you introduce nn.modules?!) </summary>\n",
    "\n",
    "You are completely right it does work much better as a class, but maybe slightly overdoing it for the task at hand, however if you are familiar with pytorch or deep learning you might find it more convenient to create a model class. We will look at this next time as well, but in pytorch this looks something like this for the linear regression:\n",
    "\n",
    "```py\n",
    "class LinearModel(nn.Module):\n",
    "    def __init__(self, n_input_features):\n",
    "        # initialize the superclass nn.module (to tell pytorch that this is a trainable model)\n",
    "        super(Model, self).__init__()\n",
    "\n",
    "        # create a linear layer to save in the model\n",
    "        self.linear = nn.Linear(n_input_features, 1)\n",
    "\n",
    "    def forward(self, x):\n",
    "        y = self.linear(x)\n",
    "        return y\n",
    "```\n",
    "\n",
    "You can the use this model the same way as before:\n",
    "\n",
    "```\n",
    "model = LinearModel(n_input_features = 1) # create model\n",
    "y = model.forward(x)\n",
    "\n",
    "# same af before you can now calculate the loss and optimize in a loop\n",
    "```\n",
    "\n",
    "It is a little overkill for the exercise, but it might be nice getting used to the abstraction.\n",
    "\n",
    "</details>\n",
    "\n",
    "<br /> \n"
   ],
   "metadata": {}
  },
  {
   "cell_type": "markdown",
   "source": [
    "# Task: Logistic Regression\n",
    "\n",
    "---\n",
    "\n",
    "create a logistic regression, fitted either to your tekst features or (maybe easier to start with) the following test data.\n",
    "\n",
    "Things which might be useful to know:\n",
    "\n",
    "Torch do have a binary cross entropy loss function (`torch.nn.BCELoss`) and a sigmoid function (`torch.sigmoid`).\n",
    "\n",
    "If you find it hard to start it might worth debating with your studygroup\n",
    "\n",
    "- what the difference is between linear regression and logistic regression\n",
    "- How many input features how many output?\n",
    "- Try to draw it as a 1-layer neural network\n",
    "\n",
    "> **Bonus**: The end of the chapter introduced the multinomial logistic regression, it is actually surprisingly easy to do in pytorch, can you implement it? (*Hint*: pytorch does have a softmax function) The chapter also introduces (L1 and) L2 regularization for logistic regression, can you add that to your model as well?"
   ],
   "metadata": {}
  },
  {
   "cell_type": "code",
   "execution_count": 7,
   "source": [
    "X_numpy, y_numpy = datasets.make_classification(n_samples=1000, n_features=10, random_state=7)\n",
    "\n",
    "print(X_numpy.shape)\n",
    "\n",
    "# only plotting 2 out of 10 feature\n",
    "plt.scatter(X_numpy[:, 0], X_numpy[:, 1], marker='o', c=y_numpy,\n",
    "            s=25, edgecolor='k')"
   ],
   "outputs": [
    {
     "output_type": "error",
     "ename": "NameError",
     "evalue": "name 'datasets' is not defined",
     "traceback": [
      "\u001b[0;31m---------------------------------------------------------------------------\u001b[0m",
      "\u001b[0;31mNameError\u001b[0m                                 Traceback (most recent call last)",
      "\u001b[0;32m<ipython-input-7-897bb17221c4>\u001b[0m in \u001b[0;36m<module>\u001b[0;34m\u001b[0m\n\u001b[0;32m----> 1\u001b[0;31m \u001b[0mX_numpy\u001b[0m\u001b[0;34m,\u001b[0m \u001b[0my_numpy\u001b[0m \u001b[0;34m=\u001b[0m \u001b[0mdatasets\u001b[0m\u001b[0;34m.\u001b[0m\u001b[0mmake_classification\u001b[0m\u001b[0;34m(\u001b[0m\u001b[0mn_samples\u001b[0m\u001b[0;34m=\u001b[0m\u001b[0;36m1000\u001b[0m\u001b[0;34m,\u001b[0m \u001b[0mn_features\u001b[0m\u001b[0;34m=\u001b[0m\u001b[0;36m10\u001b[0m\u001b[0;34m,\u001b[0m \u001b[0mrandom_state\u001b[0m\u001b[0;34m=\u001b[0m\u001b[0;36m7\u001b[0m\u001b[0;34m)\u001b[0m\u001b[0;34m\u001b[0m\u001b[0;34m\u001b[0m\u001b[0m\n\u001b[0m\u001b[1;32m      2\u001b[0m \u001b[0;34m\u001b[0m\u001b[0m\n\u001b[1;32m      3\u001b[0m \u001b[0mprint\u001b[0m\u001b[0;34m(\u001b[0m\u001b[0mX_numpy\u001b[0m\u001b[0;34m.\u001b[0m\u001b[0mshape\u001b[0m\u001b[0;34m)\u001b[0m\u001b[0;34m\u001b[0m\u001b[0;34m\u001b[0m\u001b[0m\n\u001b[1;32m      4\u001b[0m \u001b[0;34m\u001b[0m\u001b[0m\n\u001b[1;32m      5\u001b[0m \u001b[0;31m# only plotting 2 out of 10 feature\u001b[0m\u001b[0;34m\u001b[0m\u001b[0;34m\u001b[0m\u001b[0;34m\u001b[0m\u001b[0m\n",
      "\u001b[0;31mNameError\u001b[0m: name 'datasets' is not defined"
     ]
    }
   ],
   "metadata": {}
  },
  {
   "cell_type": "code",
   "execution_count": 36,
   "source": [
    "# cast to float tensor\n",
    "X = torch.tensor(X_numpy, dtype = torch.float)\n",
    "y = torch.tensor(y_numpy, dtype = torch.float)\n",
    "y = y.view(y.shape[0], 1) #set desired shape\n",
    "\n",
    "n_samples, n_features = X.shape"
   ],
   "outputs": [],
   "metadata": {}
  },
  {
   "cell_type": "code",
   "execution_count": 37,
   "metadata": {},
   "outputs": [],
   "source": [
    "#Creating the model\n",
    "input_size = n_features\n",
    "output_size = 1\n",
    "model = nn.Linear(input_size, output_size)\n"
   ]
  },
  {
   "cell_type": "code",
   "execution_count": 38,
   "metadata": {},
   "outputs": [],
   "source": [
    "#Loss and optimizer\n",
    "learning_rate = 0.01\n",
    "criterion = torch.nn.BCELoss()\n",
    "optimizer = torch.optim.SGD(model.parameters(), lr = learning_rate)\n"
   ]
  },
  {
   "cell_type": "code",
   "execution_count": 1,
   "metadata": {},
   "outputs": [
    {
     "output_type": "error",
     "ename": "NameError",
     "evalue": "name 'model' is not defined",
     "traceback": [
      "\u001b[0;31m---------------------------------------------------------------------------\u001b[0m",
      "\u001b[0;31mNameError\u001b[0m                                 Traceback (most recent call last)",
      "\u001b[0;32m<ipython-input-1-4e778adc2daf>\u001b[0m in \u001b[0;36m<module>\u001b[0;34m\u001b[0m\n\u001b[1;32m      3\u001b[0m \u001b[0;32mfor\u001b[0m \u001b[0mepoch\u001b[0m \u001b[0;32min\u001b[0m \u001b[0mrange\u001b[0m\u001b[0;34m(\u001b[0m\u001b[0mepochs\u001b[0m\u001b[0;34m)\u001b[0m\u001b[0;34m:\u001b[0m\u001b[0;34m\u001b[0m\u001b[0;34m\u001b[0m\u001b[0m\n\u001b[1;32m      4\u001b[0m     \u001b[0;31m#forward pass\u001b[0m\u001b[0;34m\u001b[0m\u001b[0;34m\u001b[0m\u001b[0;34m\u001b[0m\u001b[0m\n\u001b[0;32m----> 5\u001b[0;31m     \u001b[0my_predicted\u001b[0m \u001b[0;34m=\u001b[0m \u001b[0mmodel\u001b[0m\u001b[0;34m(\u001b[0m\u001b[0mX\u001b[0m\u001b[0;34m)\u001b[0m\u001b[0;34m\u001b[0m\u001b[0;34m\u001b[0m\u001b[0m\n\u001b[0m\u001b[1;32m      6\u001b[0m \u001b[0;34m\u001b[0m\u001b[0m\n\u001b[1;32m      7\u001b[0m     \u001b[0;31m# Pass through a sigmoid function\u001b[0m\u001b[0;34m\u001b[0m\u001b[0;34m\u001b[0m\u001b[0;34m\u001b[0m\u001b[0m\n",
      "\u001b[0;31mNameError\u001b[0m: name 'model' is not defined"
     ]
    }
   ],
   "source": [
    "#Training loop\n",
    "epochs = 10000\n",
    "for epoch in range(epochs):\n",
    "    #forward pass\n",
    "    y_predicted = model(X)\n",
    "    \n",
    "    # Pass through a sigmoid function\n",
    "    y_hat = torch.sigmoid(y_predicted)\n",
    "\n",
    "    #calculate loss\n",
    "    loss = criterion(y_hat, y)\n",
    "\n",
    "    #backward pass /gradient and update\n",
    "    loss.backward()\n",
    "    optimizer.step()\n",
    "\n",
    "    #zero grad before new step\n",
    "    optimizer.zero_grad()\n",
    "\n",
    "    #Print to see it's running\n",
    "    if (epoch+1) % 100 == 0:\n",
    "        print(f'epoch: {epoch + 1}, loss = {loss.item():.4f}')\n",
    "\n",
    "\n"
   ]
  },
  {
   "cell_type": "code",
   "execution_count": null,
   "metadata": {},
   "outputs": [],
   "source": []
  }
 ],
 "metadata": {
  "orig_nbformat": 4,
  "language_info": {
   "name": "python",
   "version": "3.7.3-final",
   "mimetype": "text/x-python",
   "codemirror_mode": {
    "name": "ipython",
    "version": 3
   },
   "pygments_lexer": "ipython3",
   "nbconvert_exporter": "python",
   "file_extension": ".py"
  },
  "kernelspec": {
   "name": "python37364bit7a16c5aeb5b24cc7b555fe8dbd4bf733",
   "display_name": "Python 3.7.3 64-bit"
  },
  "interpreter": {
   "hash": "2136a9c3637fd160483224d7922e48bf03b650be5dff26724a0c1f8d1279953b"
  }
 },
 "nbformat": 4,
 "nbformat_minor": 2
}